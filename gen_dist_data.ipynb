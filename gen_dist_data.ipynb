{
 "cells": [
  {
   "cell_type": "code",
   "execution_count": 2,
   "metadata": {},
   "outputs": [],
   "source": [
    "import os\n",
    "import pandas as pd\n",
    "\n",
    "df_sample = pd.read_table(\"Z:/Documents/GitHub/toy/data/distance-data.tsv\")\n",
    "class_pair = list()\n",
    "i = 0\n",
    "for class1 in range(104):\n",
    "  for class2 in range(class1):\n",
    "    class_pair.append([class1, class2, df_sample.scaledPatristicDistance[i]])\n",
    "    i=i+1\n",
    "import pandas as pd"
   ]
  },
  {
   "cell_type": "code",
   "execution_count": null,
   "metadata": {},
   "outputs": [],
   "source": []
  },
  {
   "cell_type": "code",
   "execution_count": 12,
   "metadata": {},
   "outputs": [],
   "source": [
    "\n",
    "def get_key_for_class2distance(TrueClass, PredClass):\n",
    "    TrueClass = tf.cast(TrueClass, tf.string)\n",
    "    PredClass = tf.cast(PredClass, tf.string)\n",
    "    out = tf.strings.reduce_join(\n",
    "\t\t\t\taxis = -1,\n",
    "\t\t\t\tinputs = tf.stack([TrueClass, PredClass], axis = 1),\n",
    "\t\t\t\tseparator = ' <=> '\n",
    "\t\t\t  )\n",
    "    return out"
   ]
  },
  {
   "cell_type": "code",
   "execution_count": 7,
   "metadata": {},
   "outputs": [],
   "source": [
    "import tensorflow as tf"
   ]
  },
  {
   "cell_type": "code",
   "execution_count": 5,
   "metadata": {},
   "outputs": [],
   "source": [
    "df_test = pd.DataFrame(class_pair).rename(\n",
    "    columns = {0:'class1', 1:'class2', 2:'scaledPatristicDistance' })"
   ]
  },
  {
   "cell_type": "code",
   "execution_count": null,
   "metadata": {},
   "outputs": [],
   "source": [
    "import toy\n",
    "\n",
    "c1 = tf.convert_to_tensor(df_test.class1)\n",
    "c2 = tf.convert_to_tensor(df_test.class2)\n",
    "get_key_for_class2distance(c1,c2)\n"
   ]
  },
  {
   "cell_type": "code",
   "execution_count": 11,
   "metadata": {},
   "outputs": [
    {
     "data": {
      "text/plain": [
       "<tf.Tensor: shape=(5356,), dtype=int64, numpy=array([  1,   2,   2, ..., 103, 103, 103], dtype=int64)>"
      ]
     },
     "execution_count": 11,
     "metadata": {},
     "output_type": "execute_result"
    }
   ],
   "source": [
    "tf.convert_to_tensor(df_test.class1)"
   ]
  },
  {
   "cell_type": "code",
   "execution_count": 30,
   "metadata": {},
   "outputs": [
    {
     "data": {
      "text/plain": [
       "<tf.Tensor: shape=(5356,), dtype=string, numpy=\n",
       "array([b'1 <=> 0', b'2 <=> 0', b'2 <=> 1', ..., b'103 <=> 100',\n",
       "       b'103 <=> 101', b'103 <=> 102'], dtype=object)>"
      ]
     },
     "execution_count": 30,
     "metadata": {},
     "output_type": "execute_result"
    }
   ],
   "source": [
    "c1 = tf.constant(df_test.class1, dtype = tf.int32)\n",
    "c2 = tf.constant(df_test.class2, dtype = tf.int32)\n",
    "v1 = tf.constant(df_test.scaledPatristicDistance, dtype = tf.float32)\n",
    "\n",
    "type(c1)\n",
    "\n",
    "c1 = tf.strings.as_string(df_test.class1)\n",
    "c2 = tf.strings.as_string(df_test.class2)\n",
    "toy.get_key_for_class2distance(c1, c2)"
   ]
  },
  {
   "cell_type": "code",
   "execution_count": 55,
   "metadata": {},
   "outputs": [
    {
     "data": {
      "text/plain": [
       "(<tf.Tensor: shape=(), dtype=float32, numpy=16.118095>,\n",
       " <tf.Tensor: shape=(), dtype=float32, numpy=5.655802>)"
      ]
     },
     "execution_count": 55,
     "metadata": {},
     "output_type": "execute_result"
    }
   ],
   "source": [
    "def get_key_for_class2distance(TrueClass, PredClass):\n",
    "\n",
    "    TrueClass = tf.strings.as_string(TrueClass)\n",
    "    PredClass = tf.strings.as_string(PredClass)\n",
    "    out = tf.strings.reduce_join(\n",
    "\t\t\t\taxis = -1,\n",
    "\t\t\t\tinputs = tf.stack([TrueClass, PredClass], axis = 1),\n",
    "\t\t\t\tseparator = ' <=> '\n",
    "\t\t\t  )\n",
    "    return out\n",
    "\n",
    "def Get_Distance(TrueClass, PredClass, LOOKUPTB, BATCH_SIZE):\n",
    "    TrueClass = tf.strings.as_string(TrueClass)\n",
    "    PredClass = tf.strings.as_string(PredClass)\n",
    "    return tf.reshape(tf.math.maximum(\n",
    "\t\t\tLOOKUPTB.lookup(tf.strings.reduce_join(\n",
    "\t\t\t\taxis = -1,\n",
    "\t\t\t\tinputs = tf.stack([TrueClass, PredClass], axis = 1),\n",
    "\t\t\t\tseparator = ' <=> '\n",
    "\t\t\t)),\n",
    "\t\t\tLOOKUPTB.lookup(tf.strings.reduce_join(\n",
    "\t\t\t\taxis = -1,\n",
    "\t\t\t\tinputs = tf.stack([PredClass, TrueClass], axis = 1),\n",
    "\t\t\t\tseparator = ' <=> '\n",
    "\t\t\t))\n",
    "            ),(BATCH_SIZE, 1))\n",
    "\n",
    "\n",
    "lookup = tf.lookup.StaticHashTable(\n",
    "    tf.lookup.KeyValueTensorInitializer(\n",
    "    get_key_for_class2distance(df_test.class1, df_test.class2),\n",
    "    tf.constant(df_test.scaledPatristicDistance)\n",
    "    ),\n",
    "    default_value = -1\n",
    ")\n",
    "\n",
    "lookup.export()\n",
    "\n",
    "batch_size = 64\n",
    "import random\n",
    "pred = random.sample(range(104), k = batch_size)\n",
    "real = random.sample(range(104), k = batch_size)\n",
    "pred_onehot = tf.one_hot(pred, 104)\n",
    "real_onehot = tf.one_hot(real, 104)\n",
    "distance = Get_Distance(real, pred , LOOKUPTB=lookup,\n",
    "            BATCH_SIZE = batch_size)\n",
    "\n",
    "ce_loss = tf.keras.losses.CategoricalCrossentropy()\n",
    "\n",
    "ce_loss(real_onehot, pred_onehot), ce_loss(real_onehot, pred_onehot, sample_weight = distance)\n",
    "#toy.pd_categorical_crossentropy(pred, real)\n"
   ]
  },
  {
   "cell_type": "code",
   "execution_count": 50,
   "metadata": {},
   "outputs": [],
   "source": [
    "\n"
   ]
  }
 ],
 "metadata": {
  "interpreter": {
   "hash": "ad2bdc8ecc057115af97d19610ffacc2b4e99fae6737bb82f5d7fb13d2f2c186"
  },
  "kernelspec": {
   "display_name": "Python 3.8.8 ('base')",
   "language": "python",
   "name": "python3"
  },
  "language_info": {
   "codemirror_mode": {
    "name": "ipython",
    "version": 3
   },
   "file_extension": ".py",
   "mimetype": "text/x-python",
   "name": "python",
   "nbconvert_exporter": "python",
   "pygments_lexer": "ipython3",
   "version": "3.8.8"
  },
  "orig_nbformat": 4
 },
 "nbformat": 4,
 "nbformat_minor": 2
}
