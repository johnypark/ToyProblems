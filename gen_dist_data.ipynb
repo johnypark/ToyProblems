{
 "cells": [
  {
   "cell_type": "code",
   "execution_count": 1,
   "metadata": {},
   "outputs": [],
   "source": [
    "import os\n",
    "import pandas as pd\n",
    "\n",
    "df_sample = pd.read_table(\"Z:/Documents/GitHub/toy/data/distance-data.tsv\")\n",
    "class_pair = list()\n",
    "i = 0\n",
    "for class1 in range(104):\n",
    "  for class2 in range(class1):\n",
    "    class_pair.append([class1, class2, df_sample.scaledPatristicDistance[i]])\n",
    "    i=i+1\n",
    "import pandas as pd"
   ]
  },
  {
   "cell_type": "code",
   "execution_count": 2,
   "metadata": {},
   "outputs": [],
   "source": [
    "import tensorflow as tf"
   ]
  },
  {
   "cell_type": "code",
   "execution_count": 6,
   "metadata": {},
   "outputs": [
    {
     "data": {
      "text/html": [
       "<div>\n",
       "<style scoped>\n",
       "    .dataframe tbody tr th:only-of-type {\n",
       "        vertical-align: middle;\n",
       "    }\n",
       "\n",
       "    .dataframe tbody tr th {\n",
       "        vertical-align: top;\n",
       "    }\n",
       "\n",
       "    .dataframe thead th {\n",
       "        text-align: right;\n",
       "    }\n",
       "</style>\n",
       "<table border=\"1\" class=\"dataframe\">\n",
       "  <thead>\n",
       "    <tr style=\"text-align: right;\">\n",
       "      <th></th>\n",
       "      <th>class1</th>\n",
       "      <th>class2</th>\n",
       "      <th>scaledPatristicDistance</th>\n",
       "    </tr>\n",
       "  </thead>\n",
       "  <tbody>\n",
       "    <tr>\n",
       "      <th>0</th>\n",
       "      <td>1</td>\n",
       "      <td>0</td>\n",
       "      <td>0.032521</td>\n",
       "    </tr>\n",
       "    <tr>\n",
       "      <th>1</th>\n",
       "      <td>2</td>\n",
       "      <td>0</td>\n",
       "      <td>0.032521</td>\n",
       "    </tr>\n",
       "    <tr>\n",
       "      <th>2</th>\n",
       "      <td>2</td>\n",
       "      <td>1</td>\n",
       "      <td>0.032521</td>\n",
       "    </tr>\n",
       "    <tr>\n",
       "      <th>3</th>\n",
       "      <td>3</td>\n",
       "      <td>0</td>\n",
       "      <td>0.032521</td>\n",
       "    </tr>\n",
       "    <tr>\n",
       "      <th>4</th>\n",
       "      <td>3</td>\n",
       "      <td>1</td>\n",
       "      <td>0.032521</td>\n",
       "    </tr>\n",
       "    <tr>\n",
       "      <th>...</th>\n",
       "      <td>...</td>\n",
       "      <td>...</td>\n",
       "      <td>...</td>\n",
       "    </tr>\n",
       "    <tr>\n",
       "      <th>5351</th>\n",
       "      <td>103</td>\n",
       "      <td>98</td>\n",
       "      <td>0.281768</td>\n",
       "    </tr>\n",
       "    <tr>\n",
       "      <th>5352</th>\n",
       "      <td>103</td>\n",
       "      <td>99</td>\n",
       "      <td>0.279972</td>\n",
       "    </tr>\n",
       "    <tr>\n",
       "      <th>5353</th>\n",
       "      <td>103</td>\n",
       "      <td>100</td>\n",
       "      <td>0.263509</td>\n",
       "    </tr>\n",
       "    <tr>\n",
       "      <th>5354</th>\n",
       "      <td>103</td>\n",
       "      <td>101</td>\n",
       "      <td>0.263509</td>\n",
       "    </tr>\n",
       "    <tr>\n",
       "      <th>5355</th>\n",
       "      <td>103</td>\n",
       "      <td>102</td>\n",
       "      <td>0.284234</td>\n",
       "    </tr>\n",
       "  </tbody>\n",
       "</table>\n",
       "<p>5356 rows × 3 columns</p>\n",
       "</div>"
      ],
      "text/plain": [
       "      class1  class2  scaledPatristicDistance\n",
       "0          1       0                 0.032521\n",
       "1          2       0                 0.032521\n",
       "2          2       1                 0.032521\n",
       "3          3       0                 0.032521\n",
       "4          3       1                 0.032521\n",
       "...      ...     ...                      ...\n",
       "5351     103      98                 0.281768\n",
       "5352     103      99                 0.279972\n",
       "5353     103     100                 0.263509\n",
       "5354     103     101                 0.263509\n",
       "5355     103     102                 0.284234\n",
       "\n",
       "[5356 rows x 3 columns]"
      ]
     },
     "execution_count": 6,
     "metadata": {},
     "output_type": "execute_result"
    }
   ],
   "source": [
    "df_test = pd.read_table(\"ptm_distance_sample.tsv\")\n",
    "df_test"
   ]
  },
  {
   "cell_type": "code",
   "execution_count": 18,
   "metadata": {},
   "outputs": [
    {
     "data": {
      "text/plain": [
       "(<tf.Tensor: shape=(), dtype=float32, numpy=15.614405>,\n",
       " <tf.Tensor: shape=(), dtype=float32, numpy=5.789507>)"
      ]
     },
     "execution_count": 18,
     "metadata": {},
     "output_type": "execute_result"
    }
   ],
   "source": [
    "import tensorflow as tf\n",
    "\n",
    "lookup = tf.lookup.StaticHashTable(\n",
    "    tf.lookup.KeyValueTensorInitializer(\n",
    "    toy.get_key_for_class2distance(df_test.class1, df_test.class2),\n",
    "    tf.constant(df_test.scaledPatristicDistance)\n",
    "    ),\n",
    "    default_value = -1\n",
    ")\n",
    "\n",
    "\n",
    "batch_size = 64\n",
    "import random\n",
    "pred = random.sample(range(104), k = batch_size)\n",
    "real = random.sample(range(104), k = batch_size)\n",
    "pred_onehot = tf.one_hot(pred, 104)\n",
    "real_onehot = tf.one_hot(real, 104)\n",
    "distance = toy.get_distance_from_two_classes(real, pred , LOOKUPTB=lookup)\n",
    "\n",
    "ce_loss = tf.keras.losses.CategoricalCrossentropy()\n",
    "\n",
    "ce_loss(real_onehot, pred_onehot), ce_loss(real_onehot, pred_onehot, sample_weight = distance)\n"
   ]
  },
  {
   "cell_type": "code",
   "execution_count": 19,
   "metadata": {},
   "outputs": [
    {
     "data": {
      "text/plain": [
       "<tf.Tensor: shape=(), dtype=float32, numpy=5.789507>"
      ]
     },
     "execution_count": 19,
     "metadata": {},
     "output_type": "execute_result"
    }
   ],
   "source": [
    "import toy\n",
    "\n",
    "pdce =toy.PatristicDistanceCrossentropy(map_label_to_distance=lookup,\n",
    "                                    weight_range = [0, 1])\n",
    "\n",
    "\n",
    "pdce(real_onehot, pred_onehot)\n",
    "                            "
   ]
  },
  {
   "cell_type": "code",
   "execution_count": 9,
   "metadata": {},
   "outputs": [
    {
     "data": {
      "text/plain": [
       "<tf.Tensor: shape=(64,), dtype=float64, numpy=\n",
       "array([0.2842338, 0.130866 , 0.810142 , 0.1739577, 0.1759178, 0.9805867,\n",
       "       0.8694284, 0.2799724, 0.799462 , 0.461171 , 0.311403 , 0.0269722,\n",
       "       0.136282 , 0.4937042, 0.4674582, 0.1490548, 0.5039794, 0.1317477,\n",
       "       0.0737781, 0.1490706, 0.4790379, 0.0248346, 0.0260794, 0.5251092,\n",
       "       0.1761407, 0.7768027, 0.2033869, 0.1375207, 0.5112497, 0.029227 ,\n",
       "       0.4973922, 0.0251069, 0.7839843, 0.5270776, 0.0259562, 0.0276316,\n",
       "       0.8270118, 0.1507162, 0.5438698, 0.0325205, 0.0277506, 0.4673536,\n",
       "       0.1337919, 0.8289436, 0.5260387, 0.8694284, 0.1461628, 0.0533559,\n",
       "       0.2302155, 0.1491927, 0.4904639, 0.1287736, 0.4191143, 0.4373319,\n",
       "       0.0767066, 0.1526273, 0.0294752, 0.9636292, 0.1531794, 0.4326483,\n",
       "       0.1526273, 0.1827623, 0.024873 , 0.7837502])>"
      ]
     },
     "execution_count": 9,
     "metadata": {},
     "output_type": "execute_result"
    }
   ],
   "source": [
    "lookup[get_key_for_class2distance(real, pred)], get_distance_from_two_classes(real, pred, lookup)"
   ]
  },
  {
   "cell_type": "code",
   "execution_count": null,
   "metadata": {},
   "outputs": [],
   "source": []
  }
 ],
 "metadata": {
  "interpreter": {
   "hash": "ad2bdc8ecc057115af97d19610ffacc2b4e99fae6737bb82f5d7fb13d2f2c186"
  },
  "kernelspec": {
   "display_name": "Python 3.8.8 ('base')",
   "language": "python",
   "name": "python3"
  },
  "language_info": {
   "codemirror_mode": {
    "name": "ipython",
    "version": 3
   },
   "file_extension": ".py",
   "mimetype": "text/x-python",
   "name": "python",
   "nbconvert_exporter": "python",
   "pygments_lexer": "ipython3",
   "version": "3.8.8"
  },
  "orig_nbformat": 4
 },
 "nbformat": 4,
 "nbformat_minor": 2
}
