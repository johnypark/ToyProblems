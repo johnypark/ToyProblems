{
 "cells": [
  {
   "cell_type": "code",
   "execution_count": 1,
   "metadata": {},
   "outputs": [],
   "source": [
    "import os\n",
    "import pandas as pd\n",
    "\n",
    "df_sample = pd.read_table(\"Z:/Documents/GitHub/toy/data/distance-data.tsv\")\n",
    "class_pair = list()\n",
    "i = 0\n",
    "for class1 in range(104):\n",
    "  for class2 in range(class1):\n",
    "    class_pair.append([class1, class2, df_sample.scaledPatristicDistance[i]])\n",
    "    i=i+1\n",
    "import pandas as pd"
   ]
  },
  {
   "cell_type": "code",
   "execution_count": 2,
   "metadata": {},
   "outputs": [],
   "source": [
    "import tensorflow as tf"
   ]
  },
  {
   "cell_type": "code",
   "execution_count": 6,
   "metadata": {},
   "outputs": [
    {
     "data": {
      "text/html": [
       "<div>\n",
       "<style scoped>\n",
       "    .dataframe tbody tr th:only-of-type {\n",
       "        vertical-align: middle;\n",
       "    }\n",
       "\n",
       "    .dataframe tbody tr th {\n",
       "        vertical-align: top;\n",
       "    }\n",
       "\n",
       "    .dataframe thead th {\n",
       "        text-align: right;\n",
       "    }\n",
       "</style>\n",
       "<table border=\"1\" class=\"dataframe\">\n",
       "  <thead>\n",
       "    <tr style=\"text-align: right;\">\n",
       "      <th></th>\n",
       "      <th>class1</th>\n",
       "      <th>class2</th>\n",
       "      <th>scaledPatristicDistance</th>\n",
       "    </tr>\n",
       "  </thead>\n",
       "  <tbody>\n",
       "    <tr>\n",
       "      <th>0</th>\n",
       "      <td>1</td>\n",
       "      <td>0</td>\n",
       "      <td>0.032521</td>\n",
       "    </tr>\n",
       "    <tr>\n",
       "      <th>1</th>\n",
       "      <td>2</td>\n",
       "      <td>0</td>\n",
       "      <td>0.032521</td>\n",
       "    </tr>\n",
       "    <tr>\n",
       "      <th>2</th>\n",
       "      <td>2</td>\n",
       "      <td>1</td>\n",
       "      <td>0.032521</td>\n",
       "    </tr>\n",
       "    <tr>\n",
       "      <th>3</th>\n",
       "      <td>3</td>\n",
       "      <td>0</td>\n",
       "      <td>0.032521</td>\n",
       "    </tr>\n",
       "    <tr>\n",
       "      <th>4</th>\n",
       "      <td>3</td>\n",
       "      <td>1</td>\n",
       "      <td>0.032521</td>\n",
       "    </tr>\n",
       "    <tr>\n",
       "      <th>...</th>\n",
       "      <td>...</td>\n",
       "      <td>...</td>\n",
       "      <td>...</td>\n",
       "    </tr>\n",
       "    <tr>\n",
       "      <th>5351</th>\n",
       "      <td>103</td>\n",
       "      <td>98</td>\n",
       "      <td>0.281768</td>\n",
       "    </tr>\n",
       "    <tr>\n",
       "      <th>5352</th>\n",
       "      <td>103</td>\n",
       "      <td>99</td>\n",
       "      <td>0.279972</td>\n",
       "    </tr>\n",
       "    <tr>\n",
       "      <th>5353</th>\n",
       "      <td>103</td>\n",
       "      <td>100</td>\n",
       "      <td>0.263509</td>\n",
       "    </tr>\n",
       "    <tr>\n",
       "      <th>5354</th>\n",
       "      <td>103</td>\n",
       "      <td>101</td>\n",
       "      <td>0.263509</td>\n",
       "    </tr>\n",
       "    <tr>\n",
       "      <th>5355</th>\n",
       "      <td>103</td>\n",
       "      <td>102</td>\n",
       "      <td>0.284234</td>\n",
       "    </tr>\n",
       "  </tbody>\n",
       "</table>\n",
       "<p>5356 rows × 3 columns</p>\n",
       "</div>"
      ],
      "text/plain": [
       "      class1  class2  scaledPatristicDistance\n",
       "0          1       0                 0.032521\n",
       "1          2       0                 0.032521\n",
       "2          2       1                 0.032521\n",
       "3          3       0                 0.032521\n",
       "4          3       1                 0.032521\n",
       "...      ...     ...                      ...\n",
       "5351     103      98                 0.281768\n",
       "5352     103      99                 0.279972\n",
       "5353     103     100                 0.263509\n",
       "5354     103     101                 0.263509\n",
       "5355     103     102                 0.284234\n",
       "\n",
       "[5356 rows x 3 columns]"
      ]
     },
     "execution_count": 6,
     "metadata": {},
     "output_type": "execute_result"
    }
   ],
   "source": [
    "df_test = pd.read_table(\"ptm_distance_sample.tsv\")\n",
    "df_test"
   ]
  },
  {
   "cell_type": "code",
   "execution_count": 18,
   "metadata": {},
   "outputs": [
    {
     "data": {
      "text/plain": [
       "(<tf.Tensor: shape=(), dtype=float32, numpy=15.614405>,\n",
       " <tf.Tensor: shape=(), dtype=float32, numpy=5.789507>)"
      ]
     },
     "execution_count": 18,
     "metadata": {},
     "output_type": "execute_result"
    }
   ],
   "source": [
    "import tensorflow as tf\n",
    "\n",
    "lookup = tf.lookup.StaticHashTable(\n",
    "    tf.lookup.KeyValueTensorInitializer(\n",
    "    toy.get_key_for_class2distance(df_test.class1, df_test.class2),\n",
    "    tf.constant(df_test.scaledPatristicDistance)\n",
    "    ),\n",
    "    default_value = -1\n",
    ")\n",
    "\n",
    "\n",
    "batch_size = 64\n",
    "import random\n",
    "pred = random.sample(range(104), k = batch_size)\n",
    "real = random.sample(range(104), k = batch_size)\n",
    "pred_onehot = tf.one_hot(pred, 104)\n",
    "real_onehot = tf.one_hot(real, 104)\n",
    "distance = toy.get_distance_from_two_classes(real, pred , LOOKUPTB=lookup)\n",
    "\n",
    "ce_loss = tf.keras.losses.CategoricalCrossentropy()\n",
    "\n",
    "ce_loss(real_onehot, pred_onehot), ce_loss(real_onehot, pred_onehot, sample_weight = distance)\n"
   ]
  },
  {
   "cell_type": "code",
   "execution_count": 19,
   "metadata": {},
   "outputs": [
    {
     "data": {
      "text/plain": [
       "<tf.Tensor: shape=(), dtype=float32, numpy=5.789507>"
      ]
     },
     "execution_count": 19,
     "metadata": {},
     "output_type": "execute_result"
    }
   ],
   "source": [
    "import toy\n",
    "\n",
    "pdce =toy.PatristicDistanceCrossentropy(map_label_to_distance=lookup,\n",
    "                                    weight_range = [0, 1])\n",
    "\n",
    "\n",
    "pdce(real_onehot, pred_onehot)\n",
    "                            "
   ]
  },
  {
   "cell_type": "code",
   "execution_count": 21,
   "metadata": {},
   "outputs": [
    {
     "data": {
      "text/plain": [
       "(<tf.Tensor: shape=(64,), dtype=float64, numpy=\n",
       " array([ 0.4454162, -1.       ,  0.4333629,  0.074513 , -1.       ,\n",
       "         0.2762509,  0.8686061,  0.1295902,  0.8019138,  0.4632265,\n",
       "        -1.       ,  0.5058361, -1.       ,  0.4574333, -1.       ,\n",
       "        -1.       ,  0.723174 , -1.       , -1.       ,  0.776907 ,\n",
       "        -1.       , -1.       , -1.       , -1.       ,  0.1276943,\n",
       "        -1.       , -1.       ,  0.0253253,  0.62593  ,  0.2617038,\n",
       "         0.0735819, -1.       , -1.       ,  0.0759526, -1.       ,\n",
       "        -1.       , -1.       ,  0.7639538, -1.       ,  0.4961066,\n",
       "         0.1570701, -1.       , -1.       , -1.       , -1.       ,\n",
       "         0.1367096,  0.1358449,  0.8709418, -1.       ,  0.1309751,\n",
       "        -1.       , -1.       ,  0.443297 , -1.       ,  0.0254241,\n",
       "        -1.       , -1.       , -1.       ,  0.0287918,  0.1301732,\n",
       "        -1.       , -1.       ,  0.4764389, -1.       ])>,\n",
       " <tf.Tensor: shape=(64,), dtype=float64, numpy=\n",
       " array([ 0.4454162,  0.5101698,  0.4333629,  0.074513 ,  0.8600878,\n",
       "         0.2762509,  0.8686061,  0.1295902,  0.8019138,  0.4632265,\n",
       "         0.0325205,  0.5058361, -1.       ,  0.4574333,  0.0735496,\n",
       "         0.7819658,  0.723174 ,  0.0293602,  0.4504299,  0.776907 ,\n",
       "         0.1531794,  0.458762 ,  0.0277506,  0.5304638,  0.1276943,\n",
       "         0.1278604,  0.4890758,  0.0253253,  0.62593  ,  0.2617038,\n",
       "         0.0735819, -1.       ,  0.5760092,  0.0759526,  0.8446282,\n",
       "         0.1746847,  0.1287292,  0.7639538,  0.9864444,  0.4961066,\n",
       "         0.1570701,  0.5044774,  0.1756098,  0.0269722,  0.5110311,\n",
       "         0.1367096,  0.1358449,  0.8709418,  0.6019238,  0.1309751,\n",
       "         0.9599294,  0.0251069,  0.443297 ,  0.849364 ,  0.0254241,\n",
       "         0.3122092,  0.1279854,  0.1613677,  0.0287918,  0.1301732,\n",
       "         0.0286803,  0.1759178,  0.4764389,  0.3499601])>)"
      ]
     },
     "execution_count": 21,
     "metadata": {},
     "output_type": "execute_result"
    }
   ],
   "source": [
    "lookup[get_key_for_class2distance(real, pred)], toy.get_distance_from_two_classes(real, pred, lookup)"
   ]
  },
  {
   "cell_type": "code",
   "execution_count": 71,
   "metadata": {},
   "outputs": [
    {
     "name": "stdout",
     "output_type": "stream",
     "text": [
      "['data/distance-data.tsv', 'data/h22_df_mms_all.tsv', 'data/ptm_distance_sample.tsv']\n"
     ]
    },
    {
     "data": {
      "text/plain": [
       "(<tf.Tensor: shape=(2600285,), dtype=string, numpy=\n",
       " array([b'Casasia <=> Lobelia', b'Betula <=> Krascheninnikovia',\n",
       "        b'Facelis <=> Prescottia', ..., b'Anisocoma <=> Barbacenia',\n",
       "        b'Isatis <=> Lewisia', b'Petiveria <=> Pinguicula'], dtype=object)>,\n",
       " <tf.Tensor: shape=(2600285,), dtype=float32, numpy=\n",
       " array([0.100115 , 0.5262681, 0.6471052, ..., 0.8066629, 0.4062916,\n",
       "        0.3337169], dtype=float32)>)"
      ]
     },
     "execution_count": 71,
     "metadata": {},
     "output_type": "execute_result"
    }
   ],
   "source": [
    "rPATH = 'data/'\n",
    "ls_data = [os.path.join(rPATH, ele) for ele in os.listdir(rPATH)]\n",
    "print(ls_data)\n",
    "toy.get_class2distance(ls_data[0]).export()"
   ]
  },
  {
   "cell_type": "code",
   "execution_count": 70,
   "metadata": {},
   "outputs": [
    {
     "name": "stdout",
     "output_type": "stream",
     "text": [
      "Index(['genusX', 'genusY', 'scaledPatristicDistance'], dtype='object')\n"
     ]
    }
   ],
   "source": [
    "df_dist = pd.read_table(ls_data[0])\n",
    "#df_map = pd.read_table(ls_data)\n",
    "print(df_dist.columns)"
   ]
  },
  {
   "cell_type": "code",
   "execution_count": 67,
   "metadata": {},
   "outputs": [
    {
     "data": {
      "text/plain": [
       "(str, tensorflow.python.framework.ops.EagerTensor)"
      ]
     },
     "execution_count": 67,
     "metadata": {},
     "output_type": "execute_result"
    }
   ],
   "source": [
    "v,w, =df_dist.genusX[0], tf.cast(df_dist.genusX, dtype=tf.string)[0]\n",
    "type(v), type(w)"
   ]
  },
  {
   "cell_type": "code",
   "execution_count": 68,
   "metadata": {},
   "outputs": [],
   "source": [
    "\n",
    "\n",
    "def get_key_case_str(TrueClass, PredClass):\n",
    "    out = tf.strings.reduce_join(\n",
    "\t\t\t\taxis = -1,\n",
    "\t\t\t\tinputs = tf.stack([TrueClass, PredClass], axis = 1),\n",
    "\t\t\t\tseparator = ' <=> '\n",
    "\t\t\t  )\n",
    "    return out"
   ]
  },
  {
   "cell_type": "code",
   "execution_count": 81,
   "metadata": {},
   "outputs": [],
   "source": [
    "\n",
    "mapping1 = tf.lookup.StaticHashTable( ### taxonID => Genus\n",
    "        tf.lookup.KeyValueTensorInitializer(\n",
    "            get_key_case_str(df_dist.genusX, df_dist.genusY), \n",
    "            tf.constant(df_dist.scaledPatristicDistance, dtype = tf.float32)\n",
    "            ),\n",
    "            default_value = -1\n",
    "        )\n"
   ]
  },
  {
   "cell_type": "code",
   "execution_count": 82,
   "metadata": {},
   "outputs": [],
   "source": [
    "df_metadata = pd.read_table('data/h22_df_mms_all.tsv')\n",
    "mapping2 = toy.map_label_to_class_from_path(ls_data[1], keycol=\"scientificName\",\n",
    "valcol=\"genus\"\n",
    ")"
   ]
  },
  {
   "cell_type": "code",
   "execution_count": 90,
   "metadata": {},
   "outputs": [],
   "source": [
    "\n",
    "def get_label_and_class_from_path(df_PATH, keycol, valcol, convert_key_to_int =True,\n",
    "    sort_alphabetically = True):\n",
    "    import pandas as pd\n",
    "    df = pd.read_table(df_PATH)\n",
    "    df_by_scif = df.groupby(keycol, as_index= False).first() \n",
    "    \n",
    "    if convert_key_to_int:\n",
    "      mapping_scif2int = toy.get_map_label_str_to_int(df, keycol, \n",
    "                          sort_alphabetically = sort_alphabetically)\n",
    "      ls_label = [mapping_scif2int[ele] for ele in df_by_scif[keycol]]\n",
    "    else:\n",
    "      ls_label = [ele for ele in df_by_scif[keycol]]\n",
    "    \n",
    "    ls_class = [ele for ele in df_by_scif[valcol]]\n",
    "    return ls_label, ls_class\n"
   ]
  },
  {
   "cell_type": "code",
   "execution_count": null,
   "metadata": {},
   "outputs": [],
   "source": [
    "ls_label, ls_class = get_label_and_class_from_path(ls_data[1], keycol=\"scientificName\",\n",
    "valcol =\"genus\")\n",
    "\n",
    "\n",
    "tf.lookup.StaticHashTable( ### taxonID => Genus\n",
    "        tf.lookup.KeyValueTensorInitializer(\n",
    "            tf.constant(list(ls_class), dtype = tf.string), \n",
    "            tf.constant(list(ls_label), dtype = tf.int32)\n",
    "            ),\n",
    "            default_value = -1\n",
    "        )"
   ]
  },
  {
   "cell_type": "code",
   "execution_count": null,
   "metadata": {},
   "outputs": [],
   "source": []
  }
 ],
 "metadata": {
  "interpreter": {
   "hash": "ad2bdc8ecc057115af97d19610ffacc2b4e99fae6737bb82f5d7fb13d2f2c186"
  },
  "kernelspec": {
   "display_name": "Python 3.8.8 ('base')",
   "language": "python",
   "name": "python3"
  },
  "language_info": {
   "codemirror_mode": {
    "name": "ipython",
    "version": 3
   },
   "file_extension": ".py",
   "mimetype": "text/x-python",
   "name": "python",
   "nbconvert_exporter": "python",
   "pygments_lexer": "ipython3",
   "version": "3.8.8"
  },
  "orig_nbformat": 4
 },
 "nbformat": 4,
 "nbformat_minor": 2
}
